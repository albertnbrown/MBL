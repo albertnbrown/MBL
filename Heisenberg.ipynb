{
 "cells": [
  {
   "cell_type": "code",
   "execution_count": 218,
   "metadata": {},
   "outputs": [],
   "source": [
    "# %load Heisenberg.py\n",
    "import numpy as np\n",
    "from numpy import linalg as LA\n",
    "import time as t\n",
    "import matplotlib.pyplot as plt\n",
    "\n",
    "def randomGaussianArray(length, mu, sigma):\n",
    "    return np.random.normal(mu, sigma, length)\n",
    "\n",
    "def randomUniformArray(length, minimum, maximum):\n",
    "    return np.random.uniform(minimum, maximum,length)\n",
    "\n",
    "def getBit(intState,i):\n",
    "    return (intState >> i) & 1\n",
    "\n",
    "def flipIJ(intState, i, j):\n",
    "    iBit = getBit(intState,i)\n",
    "    jBit = getBit(intState,j)\n",
    "    x = iBit ^ jBit\n",
    "    x = (x << i) | (x << j)\n",
    "    return x ^ intState\n",
    "\n",
    "def binaryStateToIntegerState(binString): \n",
    "    return int(binString,2)\n",
    "\n",
    "def integerStateToBinaryState(intState,length):\n",
    "    return bin(intState)[2:].zfill(length)\n",
    "\n",
    "def allowedIntegerStates(length, numParticles): \n",
    "    allowedStateSet = []\n",
    "    startState = 2**numParticles - 1\n",
    "    allowedStateSet.append(startState)\n",
    "    endState = startState << (length - numParticles)\n",
    "    \n",
    "    iteratorState = startState\n",
    "    leadingBitPosition = numParticles - 1\n",
    "    trailingBitPosition = 0\n",
    "\n",
    "    while(not(iteratorState == endState)):\n",
    "        if numParticles == 1:\n",
    "            if (iteratorState >> leadingBitPosition + 1) & 1:\n",
    "                numParticles += 1\n",
    "                leadingBitPosition += 1\n",
    "                continue\n",
    "            iteratorState = flipIJ(iteratorState, leadingBitPosition, leadingBitPosition + 1)\n",
    "            leadingBitPosition += 1\n",
    "            trailingBitPosition += 1\n",
    "            allowedStateSet.append(iteratorState)\n",
    "            continue\n",
    "\n",
    "        if (iteratorState >> leadingBitPosition + 1) & 1:\n",
    "            numParticles += 1\n",
    "            leadingBitPosition += 1\n",
    "            continue\n",
    "\n",
    "        iteratorState = flipIJ(iteratorState, leadingBitPosition, leadingBitPosition + 1)\n",
    "        for i in range(leadingBitPosition+1):\n",
    "            if i<(numParticles-1):\n",
    "                iteratorState = iteratorState | (1 << i)\n",
    "            else:\n",
    "                helper = ((iteratorState >> i) & 1)\n",
    "                iteratorState = iteratorState ^ (helper << i)\n",
    "\n",
    "        allowedStateSet.append(iteratorState)\n",
    "        leadingBitPosition = numParticles - 2\n",
    "        trailingBitPosition = 0\n",
    "        numParticles -= 1\n",
    "    \n",
    "    return allowedStateSet\n",
    "\n",
    "#conserved up spins (numParticles)\n",
    "class SpinHalfChain:\n",
    "    def __init__(self, length, numParticles):\n",
    "        \n",
    "        self.length = length\n",
    "        self.numParticles = numParticles\n",
    "        self.allowedIntStateBasis = allowedIntegerStates(length,numParticles)\n",
    "        self.basisDimension = len(self.allowedIntStateBasis)\n",
    "        \n",
    "        self.bitFlags = [0]*length\n",
    "        for i in range(length): \n",
    "            self.bitFlags[i] = 2**i\n",
    "        \n",
    "        self.allowedStateIndexDictionary = []\n",
    "        self.initalizeStateIndexDictionary()\n",
    "        \n",
    "        self.precomputeSpinZExpectationValues()\n",
    "        self.createM1()\n",
    "        \n",
    "        \n",
    "    def initalizeStateIndexDictionary(self):\n",
    "        self.allowedStateIndexDictionary = [self.basisDimension] * (2**self.length)\n",
    "        i = 0\n",
    "        for a in self.allowedIntStateBasis:\n",
    "            self.allowedStateIndexDictionary[a] = i\n",
    "            i = i+1\n",
    "    \n",
    "    def precomputeSpinZExpectationValues(self):\n",
    "        self.spinZExpectationValues = -0.5*np.ones((self.length,self.basisDimension))\n",
    "        for i in range(self.length):\n",
    "            for j in range(self.basisDimension):\n",
    "                if getBit(self.allowedIntStateBasis[j],i): \n",
    "                    self.spinZExpectationValues[i,j] = .05\n",
    "    \n",
    "    def createM1(self):\n",
    "        periodicPosition = np.exp(2j * np.pi * np.arange(self.length) / self.length)\n",
    "        self.M1 = np.dot(np.transpose(self.spinZExpectationValues),periodicPosition)\n",
    "    \n",
    "    def createHeisenbergBaseHamiltonian(self, J):\n",
    "        dim = self.basisDimension\n",
    "        allowedStates = self.allowedIntStateBasis\n",
    "        length = self.length\n",
    "        dictionary = self.allowedStateIndexDictionary\n",
    "        \n",
    "        ham = np.zeros((dim,dim))\n",
    "        indA = 0\n",
    "        for a in allowedStates:\n",
    "            for i in range(0, length):\n",
    "                j = (i+1) % length\n",
    "                \n",
    "                iBit = getBit(a,i)\n",
    "                jBit = getBit(a,j)\n",
    "                \n",
    "                if iBit == jBit:\n",
    "                    ham[indA,indA] += (J * 0.25)\n",
    "                else: \n",
    "                    ham[indA,indA] -= (J * 0.25)\n",
    "                    b = flipIJ(a,i,j)\n",
    "                    indB = dictionary[b]\n",
    "                    ham[indA,indB] += (J * 0.25)\n",
    "                    ham[indB,indA] += (J * 0.25)\n",
    "            indA += 1\n",
    "        return ham\n",
    "\n",
    "    def HeisenbergDisorderInstance(self,h): \n",
    "        dim = self.basisDimension\n",
    "        allowedStates = self.allowedIntStateBasis\n",
    "        length = self.length\n",
    "        zExpec = self.spinZExpectationValues\n",
    "    \n",
    "        wi = randomUniformArray(length, -h, h)\n",
    "        dis = np.zeros((dim,dim))\n",
    "        \n",
    "        indA = 0\n",
    "        for a in allowedStates:\n",
    "            binStateList = zExpec[:,indA]\n",
    "            dis[indA,indA] += np.dot(binStateList,wi)\n",
    "            indA += 1\n",
    "        return dis\n",
    "    \n",
    "    \n",
    "    def CorrFunct(self, nsq, site1, site2):\n",
    "        S1 = self.spinZExpectationValues[site1,:]\n",
    "        S2 = self.spinZExpectationValues[site2,:]\n",
    "        return np.dot(np.multiply(S1,S2),nsq) - np.dot(S1,nsq)*np.dot(S2,nsq)\n",
    "    \n",
    "    \n",
    "def figure2(Lvals,hvals,dvals):\n",
    "    Fvals = np.zeros((len(Lvals),len(hvals)))\n",
    "    for i in range(len(Lvals)):\n",
    "        print(\"L = \" + str(Lvals[i]) + \" started.\")\n",
    "        chain = SpinHalfChain(Lvals[i], Lvals[i]//2)\n",
    "        Hbase = chain.createHeisenbergBaseHamiltonian(1)\n",
    "        M1sq = np.multiply(np.conj(chain.M1),chain.M1)\n",
    "        for j in range(len(hvals)):\n",
    "            for d in range(dvals[i]):\n",
    "                H = Hbase + chain.HeisenbergDisorderInstance(hvals[j])\n",
    "                E = LA.eigh(H)\n",
    "                for k in range(chain.basisDimension//3,2*(chain.basisDimension//3)):\n",
    "                    nsq = np.multiply(E[1][:,k],E[1][:,k])\n",
    "                    halftop = np.dot(chain.M1,nsq)\n",
    "                    Fvals[i,j] += (1 - ((halftop.real*halftop.real + halftop.imag*halftop.imag)/(np.dot(M1sq, nsq).real)))/((chain.basisDimension//3) *dvals[i])\n",
    "            print(\"h = \" + str(hvals[j]) + \" finished.\")\n",
    "    return Fvals\n",
    "\n",
    "def figure4(Lvals,hvals,dvals):\n",
    "    Cvals = np.zeros((len(hvals),len(Lvals),Lvals[-1]//2))\n",
    "    for i in range(len(Lvals)):\n",
    "        print(\"L = \" + str(Lvals[i]) + \" started.\")\n",
    "        chain = SpinHalfChain(Lvals[i], Lvals[i]//2)\n",
    "        Hbase = chain.createHeisenbergBaseHamiltonian(1)\n",
    "        dlist = np.zeros(Lvals[i]//2)\n",
    "        for j in range(len(hvals)):\n",
    "            for k in range(dvals[i]):\n",
    "                H = Hbase + chain.HeisenbergDisorderInstance(hvals[j])\n",
    "                E = LA.eigh(H)\n",
    "                for n in range(chain.basisDimension//3,2*(chain.basisDimension//3)):\n",
    "                    nsq = np.multiply(E[1][:,n],E[1][:,n])\n",
    "                    for d in range(1,Lvals[i]//2 + 1):\n",
    "                        for site in range(Lvals[i]):\n",
    "                            Cvals[j,i,d-1] += chain.CorrFunct(nsq,site,(site+d)%Lvals[i])/((chain.basisDimension//3)*Lvals[i]*dvals[i])\n",
    "            print(\"h = \" + str(hvals[j]) + \" finished.\")\n",
    "    return Cvals\n",
    "\n",
    "def figure56(Lvals,hvals,dvals):\n",
    "    Cvals = np.zeros((len(Lvals),len(hvals),1))\n",
    "    Cvals = Cvals.tolist()\n",
    "    for i in range(len(Lvals)):\n",
    "        print(\"L = \" + str(Lvals[i]) + \" started.\")\n",
    "        chain = SpinHalfChain(Lvals[i], Lvals[i]//2)\n",
    "        Hbase = chain.createHeisenbergBaseHamiltonian(1)\n",
    "        dlist = np.zeros(Lvals[i]//2)\n",
    "        for j in range(len(hvals)):\n",
    "            for k in range(dvals[i]):\n",
    "                H = Hbase + chain.HeisenbergDisorderInstance(hvals[j])\n",
    "                E = LA.eigh(H)\n",
    "                for n in range(chain.basisDimension//3,2*(chain.basisDimension//3)):\n",
    "                    nsq = np.multiply(E[1][:,n],E[1][:,n])\n",
    "                    for site in range(Lvals[i]//2):\n",
    "                        Cvals[i][j].append(np.log(np.absolute(chain.CorrFunct(nsq,site,(site+Lvals[i]//2)%Lvals[i]))))\n",
    "            del Cvals[i][j][0]\n",
    "            print(\"h = \" + str(hvals[j]) + \" finished.\")\n",
    "    return np.array(Cvals)\n",
    "    \n",
    "    \n",
    "    \n",
    "    \n",
    "    \n",
    "    \n",
    "def getEnergies(ham):\n",
    "    return LA.eigvalsh(ham)\n",
    "\n",
    "def getEnergyGaps(ham):\n",
    "    eList = getEnergies(ham)\n",
    "    return np.diff(eList)\n",
    "\n",
    "def getRValues(ham):\n",
    "    rValues = []\n",
    "    eDiff = getEnergyGaps(ham)\n",
    "    for i in range(1,len(eDiff)): \n",
    "        n = eDiff[i]\n",
    "        m = eDiff[i-1]\n",
    "        maximum = max(n,m)\n",
    "        minimum = min(n,m)\n",
    "        rValues.append(minimum/maximum)\n",
    "    return rValues\n",
    "        \n",
    "\n",
    "def averageR(ham): \n",
    "    rValues = getRValues(ham)\n",
    "    return np.mean(rValues)"
   ]
  },
  {
   "cell_type": "code",
   "execution_count": 205,
   "metadata": {},
   "outputs": [
    {
     "name": "stdout",
     "output_type": "stream",
     "text": [
      "L = 8 started.\n",
      "h = 0.2 finished.\n",
      "h = 1 finished.\n",
      "h = 2 finished.\n",
      "h = 3.5 finished.\n",
      "h = 5 finished.\n",
      "h = 8 finished.\n",
      "L = 10 started.\n",
      "h = 0.2 finished.\n",
      "h = 1 finished.\n",
      "h = 2 finished.\n",
      "h = 3.5 finished.\n",
      "h = 5 finished.\n",
      "h = 8 finished.\n",
      "L = 12 started.\n",
      "h = 0.2 finished.\n",
      "h = 1 finished.\n",
      "h = 2 finished.\n",
      "h = 3.5 finished.\n",
      "h = 5 finished.\n",
      "h = 8 finished.\n",
      "81.8365771517856\n"
     ]
    },
    {
     "data": {
      "text/plain": [
       "[<matplotlib.lines.Line2D at 0x5705607898>]"
      ]
     },
     "execution_count": 205,
     "metadata": {},
     "output_type": "execute_result"
    },
    {
     "data": {
      "image/png": "[encoded data removed]",
      "text/plain": [
       "<matplotlib.figure.Figure at 0x57040c2470>"
      ]
     },
     "metadata": {},
     "output_type": "display_data"
    }
   ],
   "source": [
    "hlist1 = [.2,1,2,3.5,5,8]\n",
    "hlist2 = [.2,1,5,25,125,625]\n",
    "temp = t.clock()\n",
    "f2 = figure2([8,10,12],hlist1,[5000,500,50])\n",
    "print(t.clock()-temp)\n",
    "out, sub = plt.subplots(1)\n",
    "sub.semilogx(hlist1,f2[0],basex=5)\n",
    "sub.semilogx(hlist1,f2[1],basex=5)\n",
    "sub.semilogx(hlist1,f2[2],basex=5)\n",
    "#sub.semilogx(hlist,f[3],basex=5)\n",
    "#sub.semilogx(hlist,f[4],basex=5)\n",
    "#sub.semilogx(hlist,f[5],basex=5)\n",
    "\n"
   ]
  },
  {
   "cell_type": "markdown",
   "metadata": {},
   "source": [
    "out, sub = plt.subplots(1)\n",
    "sub.plot([4,6,8,10,12,14],np.log([.014,.049,.22,1.4,21,1741]))"
   ]
  },
  {
   "cell_type": "code",
   "execution_count": 201,
   "metadata": {},
   "outputs": [
    {
     "name": "stdout",
     "output_type": "stream",
     "text": [
      "L = 8 started.\n",
      "h = 0.5 finished.\n",
      "h = 8 finished.\n",
      "L = 10 started.\n",
      "h = 0.5 finished.\n",
      "h = 8 finished.\n",
      "L = 12 started.\n",
      "h = 0.5 finished.\n",
      "h = 8 finished.\n",
      "L = 14 started.\n",
      "h = 0.5 finished.\n",
      "h = 8 finished.\n",
      "67.11894352629315\n"
     ]
    }
   ],
   "source": [
    "Llist = [8,10,12,14]\n",
    "temp = t.clock() \n",
    "f4 = figure4(Llist,[.5,8],[200,50,10,4])\n",
    "print(t.clock()-temp)"
   ]
  },
  {
   "cell_type": "code",
   "execution_count": 168,
   "metadata": {},
   "outputs": [
    {
     "name": "stdout",
     "output_type": "stream",
     "text": [
      "[[[-3.46448341 -3.53783274 -3.60555415 -3.63515295  0.\n",
      "    0.        ]\n",
      "  [-3.73342235 -3.84927931 -3.91805058 -3.95471627 -3.95792294\n",
      "    0.        ]\n",
      "  [-3.90337206 -4.02017268 -4.08777725 -4.15478631 -4.16542675\n",
      "   -4.18736386]]\n",
      "\n",
      " [[-3.74827246 -3.83481748 -3.85794769 -3.87159601  0.\n",
      "    0.        ]\n",
      "  [-3.64148507 -3.74680481 -3.78708752 -3.79633504 -3.81922825\n",
      "    0.        ]\n",
      "  [-3.62663873 -3.73304997 -3.79671951 -3.85884944 -3.86496822\n",
      "   -3.86075728]]]\n"
     ]
    }
   ],
   "source": [
    "print(f4)"
   ]
  },
  {
   "cell_type": "code",
   "execution_count": 203,
   "metadata": {},
   "outputs": [
    {
     "data": {
      "text/plain": [
       "[<matplotlib.lines.Line2D at 0x5703ff4a20>]"
      ]
     },
     "execution_count": 203,
     "metadata": {},
     "output_type": "execute_result"
    },
    {
     "data": {
      "image/png": "[encoded data removed]",
      "text/plain": [
       "<matplotlib.figure.Figure at 0x5703fd7a58>"
      ]
     },
     "metadata": {},
     "output_type": "display_data"
    }
   ],
   "source": [
    "out,sub = plt.subplots(1)\n",
    "sub.semilogy(np.arange(1,Llist[0]//2+1), np.absolute(np.trim_zeros(f4[0,0],trim='b')), basey = np.e)\n",
    "sub.semilogy(np.arange(1,Llist[1]//2+1), np.absolute(np.trim_zeros(f4[0,1],trim='b')), basey = np.e)\n",
    "sub.semilogy(np.arange(1,Llist[2]//2+1), np.absolute(np.trim_zeros(f4[0,2],trim='b')), basey = np.e)\n",
    "sub.semilogy(np.arange(1,Llist[3]//2+1), np.absolute(np.trim_zeros(f4[0,3],trim='b')), basey = np.e)\n",
    "sub.semilogy(np.arange(1,Llist[0]//2+1), np.absolute(np.trim_zeros(f4[1,0],trim='b')), basey = np.e)\n",
    "sub.semilogy(np.arange(1,Llist[1]//2+1), np.absolute(np.trim_zeros(f4[1,1],trim='b')), basey = np.e)\n",
    "sub.semilogy(np.arange(1,Llist[2]//2+1), np.absolute(np.trim_zeros(f4[1,2],trim='b')), basey = np.e)\n",
    "sub.semilogy(np.arange(1,Llist[3]//2+1), np.absolute(np.trim_zeros(f4[1,3],trim='b')), basey = np.e)"
   ]
  },
  {
   "cell_type": "code",
   "execution_count": 225,
   "metadata": {},
   "outputs": [
    {
     "name": "stdout",
     "output_type": "stream",
     "text": [
      "L = 12 started.\n",
      "h = 0.5 finished.\n",
      "h = 1.5 finished.\n",
      "h = 4.5 finished.\n",
      "h = 6.5 finished.\n",
      "h = 8 finished.\n",
      "h = 10 finished.\n",
      "74.41079823550535\n"
     ]
    }
   ],
   "source": [
    "Llist = [12]\n",
    "temp = t.clock() \n",
    "f56 = figure56(Llist,[.5,1.5,4.5,6.5,8,10],[100])\n",
    "print(t.clock()-temp)"
   ]
  },
  {
   "cell_type": "code",
   "execution_count": 227,
   "metadata": {},
   "outputs": [
    {
     "data": {
      "text/plain": [
       "(array([6.76659058e-06, 4.73661340e-05, 1.82697946e-04, 2.97729985e-04,\n",
       "        5.95459971e-04, 1.16385358e-03, 2.21267512e-03, 3.86372322e-03,\n",
       "        6.67862490e-03, 1.15776365e-02, 1.79923643e-02, 2.54559137e-02,\n",
       "        3.59035296e-02, 4.71428365e-02, 5.98775600e-02, 7.23889860e-02,\n",
       "        8.40884211e-02, 9.47931674e-02, 1.01925154e-01, 1.07622623e-01,\n",
       "        1.10850287e-01, 1.06188106e-01, 9.62344512e-02, 8.15306498e-02,\n",
       "        6.33555876e-02, 4.76164979e-02, 3.40291840e-02, 2.19237535e-02,\n",
       "        1.12393069e-02, 3.68102527e-03]),\n",
       " array([-26.66425217, -25.86455026, -25.06484835, -24.26514644,\n",
       "        -23.46544453, -22.66574262, -21.86604071, -21.0663388 ,\n",
       "        -20.26663689, -19.46693498, -18.66723307, -17.86753116,\n",
       "        -17.06782925, -16.26812734, -15.46842543, -14.66872351,\n",
       "        -13.8690216 , -13.06931969, -12.26961778, -11.46991587,\n",
       "        -10.67021396,  -9.87051205,  -9.07081014,  -8.27110823,\n",
       "         -7.47140632,  -6.67170441,  -5.8720025 ,  -5.07230059,\n",
       "         -4.27259868,  -3.47289677,  -2.67319486]),\n",
       " <a list of 1 Patch objects>)"
      ]
     },
     "execution_count": 227,
     "metadata": {},
     "output_type": "execute_result"
    },
    {
     "data": {
      "image/png": "[encoded data removed]",
      "text/plain": [
       "<matplotlib.figure.Figure at 0x57068319e8>"
      ]
     },
     "metadata": {},
     "output_type": "display_data"
    }
   ],
   "source": [
    "out,sub = plt.subplots(1)\n",
    "sub.hist(f56[0][0],density='true',histtype = 'step',bins = 30)\n",
    "sub.hist(f56[0][1],density='true',histtype = 'step',bins = 30)\n",
    "sub.hist(f56[0][2],density='true',histtype = 'step',bins = 30)\n",
    "sub.hist(f56[0][3],density='true',histtype = 'step',bins = 30)\n",
    "sub.hist(f56[0][4],density='true',histtype = 'step',bins = 30)\n",
    "sub.hist(f56[0][5],density='true',histtype = 'step',bins = 30)\n"
   ]
  },
  {
   "cell_type": "code",
   "execution_count": 192,
   "metadata": {},
   "outputs": [
    {
     "name": "stdout",
     "output_type": "stream",
     "text": [
      "[ 0.0269767  -0.12119549 -0.09064129  0.00426329  0.17160832  0.05492931\n",
      " -0.04889499 -0.1192091   0.02072557  0.10689948  0.07831101  0.\n",
      " -0.06322852 -0.02040832  0.03905308  0.0076138  -0.00415592 -0.04717297\n",
      " -0.06712163  0.07164766]\n"
     ]
    }
   ],
   "source": [
    "chain = SpinHalfChain(6,3)\n",
    "Hbase = chain.createHeisenbergBaseHamiltonian(1)\n",
    "H = Hbase + chain.HeisenbergDisorderInstance(.5)\n",
    "E = LA.eigh(H)\n",
    "#print(E[0])\n",
    "nsq = np.multiply(E[1][11],E[1][11])\n",
    "nsq2 = np.multiply(E[1][:,11],E[1][:,11])\n",
    "print(np.subtract(nsq,nsq2))\n",
    "#out,sub = plt.subplots(1)\n",
    "#sub.plot(E[1][11])\n",
    "#sub.plot(nsq)"
   ]
  },
  {
   "cell_type": "code",
   "execution_count": null,
   "metadata": {},
   "outputs": [],
   "source": []
  },
  {
   "cell_type": "code",
   "execution_count": null,
   "metadata": {},
   "outputs": [],
   "source": []
  }
 ],
 "metadata": {
  "kernelspec": {
   "display_name": "Python 3",
   "language": "python",
   "name": "python3"
  },
  "language_info": {
   "codemirror_mode": {
    "name": "ipython",
    "version": 3
   },
   "file_extension": ".py",
   "mimetype": "text/x-python",
   "name": "python",
   "nbconvert_exporter": "python",
   "pygments_lexer": "ipython3",
   "version": "3.6.4"
  }
 },
 "nbformat": 4,
 "nbformat_minor": 2
}
