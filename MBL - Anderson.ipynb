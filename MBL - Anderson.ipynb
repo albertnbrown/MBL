{
 "cells": [
  {
   "cell_type": "code",
   "execution_count": 98,
   "metadata": {
    "scrolled": false
   },
   "outputs": [
    {
     "name": "stdout",
     "output_type": "stream",
     "text": [
      "[6.8652256317216445, 9.323082693861556, -15.724335638286357, 18.76600301385749, -13.60171853197881, -10.14079149049486, 17.3874586782746, 3.6041170470313166, 13.237512859941436, 5.441434953634179, -17.067217482488285, 3.927919637800955, -7.96520336550991, 11.96335662753025, 0.05713721787560003, 15.89146998242622, -4.005806356455627, 16.671667128578022, 17.552801950277942, 12.263826491964206, -17.738643859732434, 19.51300217973932, 13.674640739010062, 2.14974849616171, -2.0731486362221907, -2.7475052811053597, -1.2313301007879303, -12.969159822411669, 8.96513328456454, -5.922997539990895, 6.543724439102276, 1.4395109379500894, -18.784848079106798, -7.189743001156627, 7.977091178466025, -12.239235090470807, -15.781883062477005, -12.035842131028081, -9.529574679562145, -6.313453469580242] [-10.04216489  -3.15675544  -3.1203372   -1.69369493  -1.6091612\n",
      "  -0.51198968  -0.35033639   0.42881231   0.56466572   1.17111533\n",
      "   2.01065221   2.12813655   2.37828773   2.92216522   3.13341862\n",
      "   3.90252505   4.18245668   4.4723955    4.55992635   5.38482753\n",
      "   5.90495636   6.14471177   6.79273421   7.17992168   7.47266481\n",
      "   7.47820459   8.34782746   8.35891177   8.64377847   9.56753764\n",
      "  10.62896044  10.65314461  11.31215492  11.50873899  11.74738146\n",
      "  12.53260208  13.88929069  14.46368911  17.44648333  18.802826  ]\n"
     ]
    },
    {
     "data": {
      "text/plain": [
       "[<matplotlib.lines.Line2D at 0x4bd6d63828>]"
      ]
     },
     "execution_count": 98,
     "metadata": {},
     "output_type": "execute_result"
    },
    {
     "data": {
      "text/plain": [
       "<matplotlib.figure.Figure at 0x4bd6ab75f8>"
      ]
     },
     "metadata": {},
     "output_type": "display_data"
    },
    {
     "data": {
      "image/png": "[encoded data removed]",
      "text/plain": [
       "<matplotlib.figure.Figure at 0x4bd6ae95c0>"
      ]
     },
     "metadata": {},
     "output_type": "display_data"
    }
   ],
   "source": [
    "import numpy as np\n",
    "import math\n",
    "import matplotlib.pyplot as plt\n",
    "plt.tight_layout()\n",
    "import time\n",
    "\n",
    "class site:\n",
    "    def __init__(self, position, properties):\n",
    "        self.index = position\n",
    "        for name,value in properties.items():\n",
    "            setattr(self, name, value)\n",
    "        \n",
    "\n",
    "class AndersonHopp:\n",
    "    def __init__(self, size, tee, Uave, Ustdev):\n",
    "        self.Uave = Uave\n",
    "        self.Ustdev = Ustdev\n",
    "        self.L = int(size)\n",
    "        self.system = []\n",
    "        self.spectrum = []\n",
    "        self.eigen = []\n",
    "        self.x = []\n",
    "        for i in range(L):\n",
    "            self.x.append(np.exp(i * 1j * math.pi * 2 / self.L))\n",
    "        self.x = np.diag(self.x)\n",
    "        self.H = np.zeros((self.L,self.L)) + t*(np.diag(np.ones(self.L-1),1) + np.diag(np.ones(self.L-1),-1))\n",
    "        for i in range(self.L):\n",
    "            self.system.append(site(i, {'t':tee, 'U':np.random.normal(Uave,Ustdev)}))\n",
    "            self.H[i,i] = self.system[i].U\n",
    "        self.solve()\n",
    "        \n",
    "        \n",
    "        \n",
    "    def solve(self):\n",
    "        temp = np.linalg.eigh(self.H)\n",
    "        self.spectrum = temp[0]\n",
    "        self.eigen = temp[1]\n",
    "#        for wave in self.eigen:\n",
    " #           out, sub = plt.subplots(1)\n",
    "  #          sub.plot(wave)\n",
    "    \n",
    "    def reparam(self, UaveNew, UstdevNew):\n",
    "        self.Uave = UaveNew\n",
    "        self.Ustdev = UstdevNew\n",
    "        self.rescramble()\n",
    "    \n",
    "    def rescramble(self, UaveSingle = None, UstdevSingle = None):\n",
    "        if Unew == None:\n",
    "            UaveSingle = self.Uave\n",
    "            UstdevSingle = self.Ustdev\n",
    "        for i in range(self.L):\n",
    "            self.system[i].U = np.random.normal(UaveSingle,UstdevSingle)\n",
    "            self.H[i,i] = self.system[i].U\n",
    "        self.solve()\n",
    "    \n",
    "    def CoM(self, index=-.5):\n",
    "        out = []\n",
    "        if not(index+.5):\n",
    "            for i in range(self.L):\n",
    "                out.append(self.L/(2*math.pi) * np.imag(np.log(np.vdot(self.eigen[i], np.dot(self.x, self.eigen[i])))))\n",
    "        else:\n",
    "            if abs(index + .5)<self.L:\n",
    "                return (self.L/(2*math.pi) * np.imag(np.log(np.vdot(self.eigen[index], np.dot(self.x, self.eigen[index])))))\n",
    "            else:\n",
    "                print(\"CoM passed bad index\")\n",
    "        return out\n",
    "    \n",
    "    def locLength(self, index=-.5):\n",
    "        out = []\n",
    "        if not(index+.5):\n",
    "            for i in range(self.L):\n",
    "                return #tnoheunthoe\n",
    "        else:\n",
    "            if abs(index + .5)<self.L:\n",
    "                return ####tnhnh\n",
    "            else:\n",
    "                print(\"locLength passed bad index\")\n",
    "        return out\n",
    "    \n",
    "#    def WFout(self):\n",
    " #       vector = []\n",
    "  #      for site in self.system:\n",
    "   #         vector.append(site.wf)\n",
    "    #    return vector\n",
    "    \n",
    "    def E(self):\n",
    "        E=0\n",
    "        for i in range(int(-self.L/2),int(self.L/2)):\n",
    "            E+=self.system[i].wf*self.Hi(i)\n",
    "        return E\n",
    "    \n",
    "    def Hi(self, i):\n",
    "        return (t*(self.system[i-1].wf + self.system[i+1].wf) + self.system[i].U * self.system[i].wf)\n",
    "    \n",
    "#    def timeEvolve(self, dt):\n",
    "#        wfnext = [0]*L\n",
    " #       for i in range(int(-L/2),int(L/2)):\n",
    "  #          wfnext[i] = exp(j*dt*Hi(i))\n",
    "\n",
    "\n",
    "L = 40\n",
    "t = 1\n",
    "Uave = 5\n",
    "Ustdev = 5\n",
    "\n",
    "gaussian = AndersonHopp(L, t, Uave, Ustdev)\n",
    "\n",
    "#print(gaussian.eigen[4])\n",
    "print(gaussian.CoM(),gaussian.spectrum)\n",
    "out, sub = plt.subplots(1)\n",
    "sub.plot(np.sort(gaussian.CoM()))\n",
    "\n",
    "#for sites in test.system:\n",
    "#    print(sites.t)\n",
    "#    print(sites.U)\n"
   ]
  },
  {
   "cell_type": "code",
   "execution_count": null,
   "metadata": {},
   "outputs": [],
   "source": []
  },
  {
   "cell_type": "code",
   "execution_count": null,
   "metadata": {},
   "outputs": [],
   "source": []
  }
 ],
 "metadata": {
  "kernelspec": {
   "display_name": "Python 3",
   "language": "python",
   "name": "python3"
  },
  "language_info": {
   "codemirror_mode": {
    "name": "ipython",
    "version": 3
   },
   "file_extension": ".py",
   "mimetype": "text/x-python",
   "name": "python",
   "nbconvert_exporter": "python",
   "pygments_lexer": "ipython3",
   "version": "3.6.4"
  }
 },
 "nbformat": 4,
 "nbformat_minor": 2
}
