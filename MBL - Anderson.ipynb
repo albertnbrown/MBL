{
 "cells": [
  {
   "cell_type": "code",
   "execution_count": 143,
   "metadata": {
    "scrolled": false
   },
   "outputs": [
    {
     "name": "stdout",
     "output_type": "stream",
     "text": [
      "[22.26591338562494, 24.109381093991587, 27.437732189575264, 28.708573542911022, 31.279336102151547, 31.516114847350416, 26.084440874566834, 30.2020979191101, 30.109966209348098, 29.670465864817523, 30.942548468733932, 35.842347440756186, 30.153201527448424, 28.724689651311614, 31.38973385545915, 31.704042597072874, 32.710650401496345, 36.45029462604771, 29.245084637393923, 36.99221982993936, 31.87666066053568, 32.909648683883965, 32.090029177723764, 27.9828914000482, 29.24422448475691, 29.196110712268, 29.334898688843396, 31.750283530424394, 30.18480128004021, 30.69790235972887, 28.87690517660577, 29.998665774995363, 32.43803378207639, 26.822600795770775, 22.832350505579868, 31.60354995359087, 25.706835174256053, 20.814951102987422, 22.857521773445782, 15.14263516689633]\n"
     ]
    },
    {
     "data": {
      "text/plain": [
       "(array([ 1.,  0.,  1.,  3.,  2.,  4., 13., 11.,  2.,  3.]),\n",
       " array([15.14263517, 17.32759363, 19.5125521 , 21.69751057, 23.88246903,\n",
       "        26.0674275 , 28.25238596, 30.43734443, 32.6223029 , 34.80726136,\n",
       "        36.99221983]),\n",
       " <a list of 10 Patch objects>)"
      ]
     },
     "execution_count": 143,
     "metadata": {},
     "output_type": "execute_result"
    },
    {
     "data": {
      "text/plain": [
       "<matplotlib.figure.Figure at 0x4bd85d1ef0>"
      ]
     },
     "metadata": {},
     "output_type": "display_data"
    },
    {
     "data": {
      "image/png": "[encoded data removed]",
      "text/plain": [
       "<matplotlib.figure.Figure at 0x4bd867e6d8>"
      ]
     },
     "metadata": {},
     "output_type": "display_data"
    }
   ],
   "source": [
    "import numpy as np\n",
    "import math\n",
    "import matplotlib.pyplot as plt\n",
    "plt.tight_layout()\n",
    "import time\n",
    "\n",
    "class site:\n",
    "    def __init__(self, position, properties):\n",
    "        self.index = position\n",
    "        for name,value in properties.items():\n",
    "            setattr(self, name, value)\n",
    "        \n",
    "\n",
    "class AndersonHopp:\n",
    "    def __init__(self, size, tee, W):\n",
    "        self.Uave = Uave\n",
    "        self.Ustdev = Ustdev\n",
    "        self.L = int(size)\n",
    "        self.system = []\n",
    "        self.spectrum = []\n",
    "        self.eigen = []\n",
    "        self.x = []\n",
    "        for i in range(L):\n",
    "            self.x.append(np.exp(i * 1j * math.pi * 2 / self.L))\n",
    "        self.x = np.diag(self.x)\n",
    "        self.H = np.zeros((self.L,self.L)) + t*(np.diag(np.ones(self.L-1),1) + np.diag(np.ones(self.L-1),-1))\n",
    "        for i in range(self.L):\n",
    "            self.system.append(site(i, {'t':tee, 'U':np.random.uniform(-W/2,W/2)}))\n",
    "            self.H[i,i] = self.system[i].U\n",
    "        self.solve()\n",
    "        \n",
    "        \n",
    "        \n",
    "    def solve(self):\n",
    "        temp = np.linalg.eigh(self.H)\n",
    "        self.spectrum = temp[0]\n",
    "        self.eigen = temp[1]\n",
    "#        for wave in self.eigen:\n",
    " #           out, sub = plt.subplots(1)\n",
    "  #          sub.plot(wave)\n",
    "\n",
    "\n",
    "#these won't work yet\n",
    "    def reparam(self, UaveNew, UstdevNew):\n",
    "        self.Uave = UaveNew\n",
    "        self.Ustdev = UstdevNew\n",
    "        self.rescramble()\n",
    "    \n",
    "    def rescramble(self, UaveSingle = None, UstdevSingle = None):\n",
    "        if Unew == None:\n",
    "            UaveSingle = self.Uave\n",
    "            UstdevSingle = self.Ustdev\n",
    "        for i in range(self.L):\n",
    "            self.system[i].U = np.random.normal(UaveSingle,UstdevSingle)\n",
    "            self.H[i,i] = self.system[i].U\n",
    "        self.solve()\n",
    "    \n",
    "    def CoM(self, index=-.5):\n",
    "        out = []\n",
    "        if not(index+.5):\n",
    "            for i in range(self.L):\n",
    "                out.append(self.L/(2*math.pi) * np.imag(np.log(np.vdot(self.eigen[i], np.dot(self.x, self.eigen[i])))))\n",
    "        else:\n",
    "            if index == int(index) and abs(index + .5)<self.L:\n",
    "                return (self.L/(2*math.pi) * np.imag(np.log(np.vdot(self.eigen[index], np.dot(self.x, self.eigen[index])))))\n",
    "            else:\n",
    "                print(\"CoM passed bad index\")\n",
    "                return\n",
    "        return out\n",
    "    \n",
    "    def locLength(self, index=-.5):\n",
    "        out = []\n",
    "        wf = []\n",
    "        loclens = []\n",
    "        if not(index+.5):\n",
    "            centers = np.rint(self.CoM())\n",
    "            for i in range(self.L):\n",
    "                wf = self.eigen[i]\n",
    "                loclens.append(0)\n",
    "                for j in range(-int(self.L/2),int(self.L/2)):\n",
    "                    loclens[-1] += np.sqrt((j*wf[int(centers[i])+j])**2)\n",
    "            print(loclens)\n",
    "            return loclens\n",
    "        else:\n",
    "            if index == int(index) and abs(index + .5)<self.L:\n",
    "                wf = self.eigen[index]\n",
    "                loclen = 0\n",
    "                center = np.rint(self.CoM(index))\n",
    "                for j in range(-int(self.L/2),int(self.L/2)):\n",
    "                    loclen += np.sqrt((j*wf[int(centers[index])+j])**2)\n",
    "                return loclen\n",
    "            else:\n",
    "                print(\"locLength passed bad index\")\n",
    "                return\n",
    "        return out\n",
    "    \n",
    "#    def WFout(self):\n",
    " #       vector = []\n",
    "  #      for site in self.system:\n",
    "   #         vector.append(site.wf)\n",
    "    #    return vector\n",
    "    \n",
    "    def E(self):\n",
    "        E=0\n",
    "        for i in range(int(-self.L/2),int(self.L/2)):\n",
    "            E+=self.system[i].wf*self.Hi(i)\n",
    "        return E\n",
    "    \n",
    "    def Hi(self, i):\n",
    "        return (t*(self.system[i-1].wf + self.system[i+1].wf) + self.system[i].U * self.system[i].wf)\n",
    "    \n",
    "#    def timeEvolve(self, dt):\n",
    "#        wfnext = [0]*L\n",
    " #       for i in range(int(-L/2),int(L/2)):\n",
    "  #          wfnext[i] = exp(j*dt*Hi(i))\n",
    "\n",
    "\n",
    "L = 40\n",
    "t = 1\n",
    "Uave = 5\n",
    "Ustdev = 1.25\n",
    "\n",
    "gaussian = AndersonHopp(L, t, Uave, Ustdev)\n",
    "\n",
    "#print(gaussian.eigen[4])\n",
    "#print(gaussian.CoM(),gaussian.spectrum)\n",
    "out, sub = plt.subplots(1)\n",
    "sub.hist(gaussian.locLength())\n",
    "\n",
    "#for sites in test.system:\n",
    "#    print(sites.t)\n",
    "#    print(sites.U)\n",
    "\n"
   ]
  },
  {
   "cell_type": "code",
   "execution_count": null,
   "metadata": {},
   "outputs": [],
   "source": []
  }
 ],
 "metadata": {
  "kernelspec": {
   "display_name": "Python 3",
   "language": "python",
   "name": "python3"
  },
  "language_info": {
   "codemirror_mode": {
    "name": "ipython",
    "version": 3
   },
   "file_extension": ".py",
   "mimetype": "text/x-python",
   "name": "python",
   "nbconvert_exporter": "python",
   "pygments_lexer": "ipython3",
   "version": "3.6.4"
  }
 },
 "nbformat": 4,
 "nbformat_minor": 2
}
