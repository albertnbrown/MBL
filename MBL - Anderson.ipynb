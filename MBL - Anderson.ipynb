{
 "cells": [
  {
   "cell_type": "code",
   "execution_count": 151,
   "metadata": {
    "scrolled": false
   },
   "outputs": [
    {
     "name": "stdout",
     "output_type": "stream",
     "text": [
      "[0.46842285571837267, 1.3571368885014452, 1.447563597632116, 1.9298390762410904, 1.8455893127200504, 1.6330741575102237, 1.6671766933506749, 1.2351216129861378, 1.4427564961147146, 2.242071850166096, 2.2162260600413566, 1.8924516363569248, 2.4672035942127417, 2.3862278011228297, 2.0498372138795533, 1.8071382042882715, 1.5793804093135448, 1.7322752052436936, 1.3764396521370663, 1.5902434631688018, 1.6248058909600172, 1.5500707163968668, 1.1385742429236914, 2.3542365324811185, 3.262849536679408, 2.332403207554627, 1.0391608653976212, 1.2433549247316293, 1.4959614988884329, 1.4342156637685173, 1.5096438819919826, 1.9311821797644515, 1.913072644080436, 1.7124794691681022, 1.8065769687823352, 1.6322639976258142, 2.116842762891383, 3.3109090338643066, 3.7942162131920334, 3.116139865755056]\n"
     ]
    },
    {
     "data": {
      "text/plain": [
       "(array([ 1.,  1.,  8., 11.,  9.,  5.,  1.,  1.,  2.,  1.]),\n",
       " array([0.46842286, 0.80100219, 1.13358153, 1.46616086, 1.7987402 ,\n",
       "        2.13131953, 2.46389887, 2.79647821, 3.12905754, 3.46163688,\n",
       "        3.79421621]),\n",
       " <a list of 10 Patch objects>)"
      ]
     },
     "execution_count": 151,
     "metadata": {},
     "output_type": "execute_result"
    },
    {
     "data": {
      "text/plain": [
       "<matplotlib.figure.Figure at 0x4bd99586a0>"
      ]
     },
     "metadata": {},
     "output_type": "display_data"
    },
    {
     "data": {
      "image/png": "[encoded data removed]",
      "text/plain": [
       "<matplotlib.figure.Figure at 0x4bd9924358>"
      ]
     },
     "metadata": {},
     "output_type": "display_data"
    }
   ],
   "source": [
    "import numpy as np\n",
    "import math\n",
    "import matplotlib.pyplot as plt\n",
    "plt.tight_layout()\n",
    "import time\n",
    "\n",
    "class site:\n",
    "    def __init__(self, position, properties):\n",
    "        self.index = position\n",
    "        for name,value in properties.items():\n",
    "            setattr(self, name, value)\n",
    "        \n",
    "#want to change this to take any distribution\n",
    "class AndersonHopp:\n",
    "    def __init__(self, inL, inT, inW):\n",
    "        self.W = inW\n",
    "        self.t = inT\n",
    "        self.L = int(inL)\n",
    "        self.system = []\n",
    "        self.spectrum = []\n",
    "        self.eigen = []\n",
    "        self.x = []\n",
    "        for i in range(self.L):\n",
    "            self.x.append(np.exp(i * 1j * math.pi * 2 / self.L))\n",
    "        self.x = np.diag(self.x)\n",
    "        self.H = np.zeros((self.L,self.L)) + self.t*(np.diag(np.ones(self.L-1),1) + np.diag(np.ones(self.L-1),-1))\n",
    "        for i in range(self.L):\n",
    "            self.system.append(site(i, {'t':inT, 'U':np.random.uniform(-self.W/2,self.W/2)}))\n",
    "            self.H[i,i] = self.system[i].U\n",
    "        self.solve()\n",
    "        \n",
    "        \n",
    "        \n",
    "    def solve(self):\n",
    "        temp = np.linalg.eigh(self.H)\n",
    "        self.spectrum = temp[0]\n",
    "        self.eigen = temp[1]\n",
    "#        for wave in self.eigen:\n",
    " #           out, sub = plt.subplots(1)\n",
    "  #          sub.plot(wave)\n",
    "\n",
    "\n",
    "\n",
    "    def reparam(self, Wnew):\n",
    "        self.W = Wnew\n",
    "        self.rescramble()\n",
    "    \n",
    "    def rescramble(self, Wsingle = None):\n",
    "        if Wsingle == None:\n",
    "            Wsingle = self.W\n",
    "        for i in range(self.L):\n",
    "            self.system[i].U = np.random.Uniform(-Wsingle/2,Wsingle/2)\n",
    "            self.H[i,i] = self.system[i].U\n",
    "        self.solve()\n",
    "    \n",
    "    def CoM(self, index=-.5):\n",
    "        out = []\n",
    "        if not(index+.5):\n",
    "            for i in range(self.L):\n",
    "                out.append(self.L/(2*math.pi) * np.imag(np.log(np.vdot(self.eigen[i], np.dot(self.x, self.eigen[i])))))\n",
    "        else:\n",
    "            if index == int(index) and abs(index + .5)<self.L:\n",
    "                return (self.L/(2*math.pi) * np.imag(np.log(np.vdot(self.eigen[index], np.dot(self.x, self.eigen[index])))))\n",
    "            else:\n",
    "                print(\"CoM passed bad index\")\n",
    "                return\n",
    "        return out\n",
    "    \n",
    "    def locLength(self, index=-.5):\n",
    "        out = []\n",
    "        wf = []\n",
    "        loclens = []\n",
    "        if not(index+.5):\n",
    "            centers = np.rint(self.CoM())\n",
    "            for i in range(self.L):\n",
    "                wf = self.eigen[i]\n",
    "                loclens.append(0)\n",
    "                for j in range(-int(self.L/2),int(self.L/2)):\n",
    "                    loclens[-1] += np.sqrt((j*wf[int(centers[i])+j])**2)\n",
    "            print(loclens)\n",
    "            return loclens\n",
    "        else:\n",
    "            if index == int(index) and abs(index + .5)<self.L:\n",
    "                wf = self.eigen[index]\n",
    "                loclen = 0\n",
    "                center = np.rint(self.CoM(index))\n",
    "                for j in range(-int(self.L/2),int(self.L/2)):\n",
    "                    loclen += np.sqrt((j*wf[int(centers[index])+j])**2)\n",
    "                return loclen\n",
    "            else:\n",
    "                print(\"locLength passed bad index\")\n",
    "                return\n",
    "        return out\n",
    "    \n",
    "#    def WFout(self):\n",
    " #       vector = []\n",
    "  #      for site in self.system:\n",
    "   #         vector.append(site.wf)\n",
    "    #    return vector\n",
    "    \n",
    "    def E(self):\n",
    "        E=0\n",
    "        for i in range(int(-self.L/2),int(self.L/2)):\n",
    "            E+=self.system[i].wf*self.Hi(i)\n",
    "        return E\n",
    "    \n",
    "    def Hi(self, i):\n",
    "        return (t*(self.system[i-1].wf + self.system[i+1].wf) + self.system[i].U * self.system[i].wf)\n",
    "    \n",
    "#    def timeEvolve(self, dt):\n",
    "#        wfnext = [0]*L\n",
    " #       for i in range(int(-L/2),int(L/2)):\n",
    "  #          wfnext[i] = exp(j*dt*Hi(i))\n",
    "\n",
    "\n",
    "L = 40\n",
    "t = 1\n",
    "W = 50\n",
    "\n",
    "gaussian = AndersonHopp(L, t, W)\n",
    "\n",
    "#print(gaussian.eigen[4])\n",
    "#print(gaussian.CoM(),gaussian.spectrum)\n",
    "out, sub = plt.subplots(1)\n",
    "sub.hist(gaussian.locLength())\n",
    "\n",
    "#for sites in test.system:\n",
    "#    print(sites.t)\n",
    "#    print(sites.U)\n",
    "\n"
   ]
  },
  {
   "cell_type": "code",
   "execution_count": null,
   "metadata": {},
   "outputs": [],
   "source": []
  }
 ],
 "metadata": {
  "kernelspec": {
   "display_name": "Python 3",
   "language": "python",
   "name": "python3"
  },
  "language_info": {
   "codemirror_mode": {
    "name": "ipython",
    "version": 3
   },
   "file_extension": ".py",
   "mimetype": "text/x-python",
   "name": "python",
   "nbconvert_exporter": "python",
   "pygments_lexer": "ipython3",
   "version": "3.6.4"
  }
 },
 "nbformat": 4,
 "nbformat_minor": 2
}
